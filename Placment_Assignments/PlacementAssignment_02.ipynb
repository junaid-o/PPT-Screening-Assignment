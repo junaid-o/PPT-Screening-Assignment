{
 "cells": [
  {
   "cell_type": "markdown",
   "id": "1807b834-d0e1-496b-a382-27810299b0a8",
   "metadata": {},
   "source": [
    "# <center>MACHINE LEARNING</center>"
   ]
  },
  {
   "cell_type": "code",
   "execution_count": null,
   "id": "c19fbf2b-52d7-4937-8e4a-98f21a15b5b3",
   "metadata": {},
   "outputs": [],
   "source": []
  }
 ],
 "metadata": {
  "kernelspec": {
   "display_name": "Python 3 (ipykernel)",
   "language": "python",
   "name": "python3"
  },
  "language_info": {
   "codemirror_mode": {
    "name": "ipython",
    "version": 3
   },
   "file_extension": ".py",
   "mimetype": "text/x-python",
   "name": "python",
   "nbconvert_exporter": "python",
   "pygments_lexer": "ipython3",
   "version": "3.10.8"
  }
 },
 "nbformat": 4,
 "nbformat_minor": 5
}
