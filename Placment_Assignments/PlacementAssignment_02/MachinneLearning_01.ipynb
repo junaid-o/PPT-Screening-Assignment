{
 "cells": [
  {
   "attachments": {},
   "cell_type": "markdown",
   "id": "1807b834-d0e1-496b-a382-27810299b0a8",
   "metadata": {},
   "source": [
    "# <center>MACHINE LEARNING</center>"
   ]
  },
  {
   "attachments": {},
   "cell_type": "markdown",
   "id": "c19fbf2b-52d7-4937-8e4a-98f21a15b5b3",
   "metadata": {},
   "source": [
    "# Question 1\n",
    "\n",
    "- Provided Link\n",
    "\n",
    "    https://www.kaggle.com/datasets/rxsraghavagrawal/instagram-reach\n",
    "\n",
    "- Solution:\n",
    "\n",
    "    https://github.com/junaid-o/ML-09-Predicting-Instagram-Likes-and-Time-Since-Posted"
   ]
  },
  {
   "attachments": {},
   "cell_type": "markdown",
   "id": "89adb752",
   "metadata": {},
   "source": [
    "# Question 2\n",
    "\n",
    "- Provided Link\n",
    "\n",
    "    https://www.kaggle.com/datasets/ankurbajaj9/obesity-levels\n",
    "\n",
    "- Solution:\n",
    "\n",
    "    https://github.com/junaid-o/ML-05-Obesity-Classification"
   ]
  },
  {
   "attachments": {},
   "cell_type": "markdown",
   "id": "f07fe4a0",
   "metadata": {},
   "source": [
    "# Question 3\n",
    "\n",
    "- Provided Link\n",
    "\n",
    "    https://www.kaggle.com/datasets/rmisra/news-category-dataset\n",
    "\n",
    "- Solution:\n",
    "\n",
    "    https://github.com/junaid-o/ML-06-Similarity-Detection-Using-SimilarityAlgorithms"
   ]
  },
  {
   "attachments": {},
   "cell_type": "markdown",
   "id": "cad65172",
   "metadata": {},
   "source": [
    "# Question 4\n",
    "\n",
    "- Provided Link\n",
    "\n",
    "    https://www.kaggle.com/datasets/henrysue/online-shoppers-intention\n",
    "\n",
    "- Solution:\n",
    "\n",
    "    https://github.com/junaid-o/ML-07-EnsembleApproach-For-MultiFeature-Prediction"
   ]
  },
  {
   "attachments": {},
   "cell_type": "markdown",
   "id": "2bafeda4",
   "metadata": {},
   "source": [
    "# Question 6\n",
    "\n",
    "- Provided Link\n",
    "\n",
    "    https://www.kaggle.com/code/ajaymanwani/loan-approval-prediction/notebook\n",
    "\n",
    "- Solution:\n",
    "\n",
    "    https://github.com/junaid-o/ML-10-Loan-Approval-Prediction"
   ]
  },
  {
   "attachments": {},
   "cell_type": "markdown",
   "id": "a37bd672",
   "metadata": {},
   "source": [
    "# Question 8\n",
    "\n",
    "- Provided Link\n",
    "\n",
    "    https://www.kaggle.com/c/quora-question-pairs\n",
    "\n",
    "- Solution:\n",
    "\n",
    "    https://github.com/junaid-o/ML-08-Similar-Quora-Question-Detection-Using-TFIDF"
   ]
  },
  {
   "attachments": {},
   "cell_type": "markdown",
   "id": "d920149e",
   "metadata": {},
   "source": []
  }
 ],
 "metadata": {
  "kernelspec": {
   "display_name": "Python 3 (ipykernel)",
   "language": "python",
   "name": "python3"
  },
  "language_info": {
   "codemirror_mode": {
    "name": "ipython",
    "version": 3
   },
   "file_extension": ".py",
   "mimetype": "text/x-python",
   "name": "python",
   "nbconvert_exporter": "python",
   "pygments_lexer": "ipython3",
   "version": "3.10.8"
  }
 },
 "nbformat": 4,
 "nbformat_minor": 5
}
